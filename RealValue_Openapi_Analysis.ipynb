{
 "cells": [
  {
   "cell_type": "code",
   "execution_count": 1,
   "metadata": {},
   "outputs": [],
   "source": [
    "import requests, bs4\n",
    "import pandas as pd\n",
    "from lxml import html\n",
    "from urllib.request import Request, urlopen\n",
    "from urllib.parse import urlencode, quote_plus, unquote\n",
    "import matplotlib.pyplot as plt"
   ]
  },
  {
   "cell_type": "code",
   "execution_count": 2,
   "metadata": {},
   "outputs": [],
   "source": [
    "from matplotlib import font_manager, rc\n",
    "import platform \n",
    "\n",
    "# 그래프에서 한글 표기를 위한,\n",
    "# 글자체 변경(윈도우, 맥os 각각의 경우에 대해서 처리)\n",
    "if platform.system() == 'Windows': \n",
    "    path = 'c:/Windows/Fonts/malgun.ttf'\n",
    "    font_name = font_manager.FontProperties(fname=path).get_name()\n",
    "    rc('font', family=font_name)\n",
    "    \n",
    "elif platform.system() == 'Darwin':\n",
    "    rc('font', family='AppleGothic')\n",
    "    \n",
    "else: \n",
    "    print('Check your OS system')"
   ]
  },
  {
   "cell_type": "code",
   "execution_count": 3,
   "metadata": {},
   "outputs": [],
   "source": [
    "law_code = '11110'\n",
    "date = []\n",
    "for yy in range(2018, 2021):\n",
    "    for mm in range(1, 13):\n",
    "        mm_str = str(mm).zfill(2) #mm을 2자리로 만들기 위해 mm_str로 변경하였음\n",
    "        yymm = '{}{}'.format(yy, mm_str)\n",
    "        date.append(yymm)"
   ]
  },
  {
   "cell_type": "code",
   "execution_count": 4,
   "metadata": {},
   "outputs": [],
   "source": [
    "test = []\n",
    "test_item=[]\n",
    "\n",
    "for i in date:\n",
    "    url_test = f'http://openapi.molit.go.kr/OpenAPI_ToolInstallPackage/service/rest/RTMSOBJSvc/getRTMSDataSvcAptTradeDev?serviceKey=g0xxCgFIz6KBQflrM3Wa3vTteKN8N525AB7JLLGyRe8b2GIS3luZSAbh3Nhv22JKm8U1TbCJ1qQmUyK5qO5dvQ%3D%3D&LAWD_CD={law_code}&DEAL_YMD={i}'\n",
    "    resp =  requests.get(url_test).text.encode('utf-8')\n",
    "    xmlobj = bs4.BeautifulSoup(resp, 'lxml-xml')\n",
    "    rows = xmlobj.findAll('item')\n",
    "    test.append(rows)\n",
    "test = sum(test, [])\n",
    "\n",
    "for j in range(len(test)):\n",
    "    parsing = test[j].find_all()\n",
    "    data = {}\n",
    "    for k in range(len(parsing)):\n",
    "        tag = parsing[k].name.strip()\n",
    "        text = parsing[k].text.strip()\n",
    "        data[tag] = text\n",
    "    test_item.append(data)\n",
    "    \n",
    "open_value = pd.DataFrame(test_item)"
   ]
  },
  {
   "cell_type": "code",
   "execution_count": 5,
   "metadata": {},
   "outputs": [],
   "source": [
    "real_value = open_value.drop(['해제사유발생일', '해제여부', '일'], axis = 1)"
   ]
  },
  {
   "cell_type": "markdown",
   "metadata": {},
   "source": [
    "## 아파트거래일자 파생변수 생성"
   ]
  },
  {
   "cell_type": "code",
   "execution_count": 6,
   "metadata": {},
   "outputs": [],
   "source": [
    "month = [str(real_value['월'][i]).zfill(2) for i in range(len(real_value))]"
   ]
  },
  {
   "cell_type": "code",
   "execution_count": 7,
   "metadata": {},
   "outputs": [],
   "source": [
    "real_value['월'] = month\n",
    "real_value['거래날짜'] = real_value['년'] + real_value['월']"
   ]
  },
  {
   "cell_type": "code",
   "execution_count": 8,
   "metadata": {},
   "outputs": [],
   "source": [
    "value = real_value[['도로명','아파트', '건축년도', '거래날짜', '층', '거래금액']]"
   ]
  },
  {
   "cell_type": "markdown",
   "metadata": {},
   "source": [
    "# 건축년도에 따른 거래금액의 변화"
   ]
  },
  {
   "cell_type": "code",
   "execution_count": 9,
   "metadata": {},
   "outputs": [],
   "source": [
    "apt_money = []\n",
    "floor = []\n",
    "\n",
    "for n in range(len(value)):\n",
    "    new_num = str(value['거래금액'][n]).replace(',', '')\n",
    "    new_num = int(new_num)\n",
    "    flo = int(value['층'][n])\n",
    "    floor.append(flo)\n",
    "    apt_money.append(new_num)"
   ]
  },
  {
   "cell_type": "code",
   "execution_count": 10,
   "metadata": {},
   "outputs": [
    {
     "name": "stderr",
     "output_type": "stream",
     "text": [
      "C:\\Users\\Doffal\\AppData\\Local\\Temp/ipykernel_33308/3268083424.py:1: SettingWithCopyWarning: \n",
      "A value is trying to be set on a copy of a slice from a DataFrame.\n",
      "Try using .loc[row_indexer,col_indexer] = value instead\n",
      "\n",
      "See the caveats in the documentation: https://pandas.pydata.org/pandas-docs/stable/user_guide/indexing.html#returning-a-view-versus-a-copy\n",
      "  value['거래금액'] = apt_money\n"
     ]
    }
   ],
   "source": [
    "value['거래금액'] = apt_money"
   ]
  },
  {
   "cell_type": "code",
   "execution_count": 11,
   "metadata": {},
   "outputs": [
    {
     "name": "stderr",
     "output_type": "stream",
     "text": [
      "C:\\Users\\Doffal\\AppData\\Local\\Temp/ipykernel_33308/4130268068.py:1: SettingWithCopyWarning: \n",
      "A value is trying to be set on a copy of a slice from a DataFrame.\n",
      "Try using .loc[row_indexer,col_indexer] = value instead\n",
      "\n",
      "See the caveats in the documentation: https://pandas.pydata.org/pandas-docs/stable/user_guide/indexing.html#returning-a-view-versus-a-copy\n",
      "  value['층2'] = floor\n"
     ]
    }
   ],
   "source": [
    "value['층2'] = floor"
   ]
  },
  {
   "cell_type": "code",
   "execution_count": 12,
   "metadata": {},
   "outputs": [
    {
     "name": "stdout",
     "output_type": "stream",
     "text": [
      "<class 'pandas.core.frame.DataFrame'>\n",
      "RangeIndex: 360 entries, 0 to 359\n",
      "Data columns (total 7 columns):\n",
      " #   Column  Non-Null Count  Dtype \n",
      "---  ------  --------------  ----- \n",
      " 0   도로명     360 non-null    object\n",
      " 1   아파트     360 non-null    object\n",
      " 2   건축년도    360 non-null    object\n",
      " 3   거래날짜    360 non-null    object\n",
      " 4   층       360 non-null    object\n",
      " 5   거래금액    360 non-null    int64 \n",
      " 6   층2      360 non-null    int64 \n",
      "dtypes: int64(2), object(5)\n",
      "memory usage: 19.8+ KB\n"
     ]
    }
   ],
   "source": [
    "value.info()"
   ]
  },
  {
   "cell_type": "code",
   "execution_count": 13,
   "metadata": {},
   "outputs": [
    {
     "data": {
      "text/plain": [
       "array(['1999', '2008', '2000', '2003', '2004', '2005', '1983', '2006',\n",
       "       '2007', '1998', '1994', '2017', '1995', '1992', '1981', '2014',\n",
       "       '2002', '2009', '1997', '1993', '1966', '1996', '2013', '1970',\n",
       "       '2011', '2020'], dtype=object)"
      ]
     },
     "execution_count": 13,
     "metadata": {},
     "output_type": "execute_result"
    }
   ],
   "source": [
    "value['건축년도'].unique()"
   ]
  },
  {
   "cell_type": "code",
   "execution_count": 14,
   "metadata": {},
   "outputs": [],
   "source": [
    "value = value.sort_values(by = '건축년도')"
   ]
  },
  {
   "cell_type": "code",
   "execution_count": 15,
   "metadata": {},
   "outputs": [],
   "source": [
    "value.reset_index(inplace= True, drop= True)"
   ]
  },
  {
   "cell_type": "code",
   "execution_count": 16,
   "metadata": {},
   "outputs": [],
   "source": [
    "year_apt = value.groupby('건축년도').거래금액.mean()"
   ]
  },
  {
   "cell_type": "code",
   "execution_count": 17,
   "metadata": {},
   "outputs": [],
   "source": [
    "year_apt = year_apt.round(2)"
   ]
  },
  {
   "cell_type": "code",
   "execution_count": 18,
   "metadata": {},
   "outputs": [],
   "source": [
    "label = list(value['건축년도'].unique())"
   ]
  },
  {
   "cell_type": "code",
   "execution_count": 19,
   "metadata": {},
   "outputs": [],
   "source": [
    "value['건축년도기간']= ''"
   ]
  },
  {
   "cell_type": "code",
   "execution_count": 20,
   "metadata": {},
   "outputs": [
    {
     "name": "stdout",
     "output_type": "stream",
     "text": [
      "<class 'pandas.core.frame.DataFrame'>\n",
      "RangeIndex: 360 entries, 0 to 359\n",
      "Data columns (total 8 columns):\n",
      " #   Column  Non-Null Count  Dtype \n",
      "---  ------  --------------  ----- \n",
      " 0   도로명     360 non-null    object\n",
      " 1   아파트     360 non-null    object\n",
      " 2   건축년도    360 non-null    object\n",
      " 3   거래날짜    360 non-null    object\n",
      " 4   층       360 non-null    object\n",
      " 5   거래금액    360 non-null    int64 \n",
      " 6   층2      360 non-null    int64 \n",
      " 7   건축년도기간  360 non-null    object\n",
      "dtypes: int64(2), object(6)\n",
      "memory usage: 22.6+ KB\n"
     ]
    }
   ],
   "source": [
    "value.info()"
   ]
  },
  {
   "cell_type": "code",
   "execution_count": 21,
   "metadata": {},
   "outputs": [],
   "source": [
    "year_part = []\n",
    "\n",
    "for i in range(len(value['건축년도'])):\n",
    "    yea = int(value['건축년도'][i])\n",
    "    year_part.append(yea)"
   ]
  },
  {
   "cell_type": "code",
   "execution_count": 22,
   "metadata": {},
   "outputs": [],
   "source": [
    "value['건축년도'] = year_part"
   ]
  },
  {
   "cell_type": "code",
   "execution_count": 23,
   "metadata": {},
   "outputs": [],
   "source": [
    "test = []\n",
    "\n",
    "for year in value['건축년도']:\n",
    "    if 1966 <= year < 1990:\n",
    "        test.append('1990년도 이전')\n",
    "    elif 1991 <= year < 2000:\n",
    "        test.append(\"1990년도\")\n",
    "    elif 2000 <= year < 2010:\n",
    "        test.append(\"2000년도\")\n",
    "    elif 2010 <= year < 2020:\n",
    "        test.append(\"2010년도\")\n",
    "    else:\n",
    "        test.append(\"2020년도\")\n",
    "\n",
    "value['건축년도기간'] = test"
   ]
  },
  {
   "cell_type": "code",
   "execution_count": 24,
   "metadata": {},
   "outputs": [],
   "source": [
    "year_apt2 = value.groupby('건축년도기간').거래금액.mean()\n",
    "year_apt2 = year_apt2.round(2)"
   ]
  },
  {
   "cell_type": "code",
   "execution_count": 25,
   "metadata": {},
   "outputs": [],
   "source": [
    "label = value['건축년도기간'].unique()"
   ]
  },
  {
   "cell_type": "code",
   "execution_count": 26,
   "metadata": {},
   "outputs": [
    {
     "data": {
      "text/plain": [
       "<BarContainer object of 5 artists>"
      ]
     },
     "execution_count": 26,
     "metadata": {},
     "output_type": "execute_result"
    },
    {
     "data": {
      "image/png": "[encoded data removed]",
      "text/plain": [
       "<Figure size 432x288 with 1 Axes>"
      ]
     },
     "metadata": {
      "needs_background": "light"
     },
     "output_type": "display_data"
    }
   ],
   "source": [
    "plt.bar(label, year_apt2)\n",
    "#plt.title('')"
   ]
  },
  {
   "cell_type": "code",
   "execution_count": null,
   "metadata": {},
   "outputs": [],
   "source": [
    " "
   ]
  }
 ],
 "metadata": {
  "kernelspec": {
   "display_name": "Python 3 (ipykernel)",
   "language": "python",
   "name": "python3"
  },
  "language_info": {
   "codemirror_mode": {
    "name": "ipython",
    "version": 3
   },
   "file_extension": ".py",
   "mimetype": "text/x-python",
   "name": "python",
   "nbconvert_exporter": "python",
   "pygments_lexer": "ipython3",
   "version": "3.9.7"
  }
 },
 "nbformat": 4,
 "nbformat_minor": 4
}
